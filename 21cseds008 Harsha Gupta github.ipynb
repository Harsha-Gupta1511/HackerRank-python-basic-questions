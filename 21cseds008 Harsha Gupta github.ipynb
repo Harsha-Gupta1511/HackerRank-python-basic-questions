{
 "cells": [
  {
   "cell_type": "markdown",
   "id": "42c2518b-ab89-455b-85bd-eec00e082777",
   "metadata": {},
   "source": [
    "Task\n",
    "Given an integer,n, perform the following conditional actions:\n",
    "\n",
    "If n is odd, print Weird\n",
    "If n is even and in the inclusive range of 2 to 5, print Not Weird\n",
    "If n is even and in the inclusive range of 6 to 20, print Weird\n",
    "If n is even and greater than 20, print Not Weird\n",
    "Input Format\n",
    "\n",
    "A single line containing a positive integer,n.\n",
    "\n",
    "Constraints\n",
    "1<=n<=100\n",
    "Output Format\n",
    "\n",
    "Print Weird if the number is weird. Otherwise, print Not Weird."
   ]
  },
  {
   "cell_type": "code",
   "execution_count": null,
   "id": "3c49c6ca-904f-4750-bfb2-da90c20640c8",
   "metadata": {},
   "outputs": [],
   "source": [
    "#!/bin/python3\n",
    "\n",
    "import math\n",
    "import os\n",
    "import random\n",
    "import re\n",
    "import sys\n",
    "\n",
    "\n",
    "\n",
    "if __name__ == '__main__':\n",
    "    n = int(input().strip())\n",
    "    if n % 2 != 0:\n",
    "        print(\"Weird\")\n",
    "    elif 2 <= n <= 5:\n",
    "        print(\"Not Weird\")\n",
    "    elif 6 <= n <= 20:\n",
    "        print(\"Weird\")\n",
    "    elif n > 20:\n",
    "        print(\"Not Weird\")\n"
   ]
  },
  {
   "cell_type": "code",
   "execution_count": null,
   "id": "610164ff-eb5f-4396-b7d2-1d9f3e2f56dc",
   "metadata": {},
   "outputs": [],
   "source": [
    "Task\n",
    "The provided code stub reads two integers from STDIN,  and . Add code to print three lines where:\n",
    "\n",
    "The first line contains the sum of the two numbers.\n",
    "The second line contains the difference of the two numbers (first - second).\n",
    "The third line contains the product of the two numbers.\n",
    "Example\n",
    "\n",
    "\n",
    "Print the following:\n",
    "\n",
    "8\n",
    "-2\n",
    "15"
   ]
  },
  {
   "cell_type": "markdown",
   "id": "0cc60881-1afb-4c49-80d9-d5c207b13379",
   "metadata": {},
   "source": [
    "Task\n",
    "The provided code stub reads two integers from STDIN,a and b. Add code to print three lines where:\n",
    "\n",
    "1.The first line contains the sum of the two numbers.\n",
    "2.The second line contains the difference of the two numbers (first - second).\n",
    "3.The third line contains the product of the two numbers.\n",
    "Example\n",
    "a=3\n",
    "b=5\n",
    "Print the following:\n",
    "\n",
    "8\n",
    "-2\n",
    "15\n"
   ]
  },
  {
   "cell_type": "code",
   "execution_count": null,
   "id": "11df8ac7-0f93-48c2-a2b1-d0b6b3427621",
   "metadata": {},
   "outputs": [],
   "source": [
    "if __name__ == '__main__':\n",
    "    a = int(input())\n",
    "    b = int(input())\n",
    "    print(a+b)\n",
    "    print(a-b)\n",
    "    print(a*b)\n"
   ]
  },
  {
   "cell_type": "code",
   "execution_count": null,
   "id": "bfe22e6c-36ec-4cbc-8d9a-59b0bfabcd98",
   "metadata": {},
   "outputs": [],
   "source": [
    "Task\n",
    "The provided code stub reads two integers,a and b, from STDIN.\n",
    "\n",
    "Add logic to print two lines. The first line should contain the result of integer division,  a//b . The second line should contain the result of float division,  a/b .\n",
    "\n",
    "No rounding or formatting is necessary.\n",
    "\n",
    "Example\n",
    "a=3\n",
    "b=5\n",
    "The result of the integer division 3//5=0.\n",
    "The result of the float division is 3/5=0.6.\n",
    "Print:\n",
    "\n",
    "0\n",
    "0.6"
   ]
  },
  {
   "cell_type": "code",
   "execution_count": null,
   "id": "f0b40003-2710-4e07-83ae-b016b86d8afd",
   "metadata": {},
   "outputs": [],
   "source": [
    "if __name__ == '__main__':\n",
    "    a = int(input())\n",
    "    b = int(input())\n",
    "    print(a//b)\n",
    "    print(a/b)\n"
   ]
  },
  {
   "cell_type": "code",
   "execution_count": null,
   "id": "a2485436-a3fc-4e9a-81c9-3e30db3e555e",
   "metadata": {},
   "outputs": [],
   "source": [
    "Task\n",
    "The provided code stub reads and integer,n, from STDIN. For all non-negative integers i<n, print i^2.\n",
    "\n",
    "Example\n",
    "n=3\n",
    "The list of non-negative integers that are less than n=3 is [0,1,2]. Print the square of each number on a separate line.\n",
    "\n",
    "0\n",
    "1\n",
    "4"
   ]
  },
  {
   "cell_type": "code",
   "execution_count": null,
   "id": "59091e7c-a4ea-4115-b875-0e9880ffe1cf",
   "metadata": {},
   "outputs": [],
   "source": [
    "if __name__ == '__main__':\n",
    "    n = int(input())\n",
    "    for i in range(n):\n",
    "        print(i**2)\n"
   ]
  },
  {
   "cell_type": "code",
   "execution_count": null,
   "id": "94d7dde3-e412-4e3c-98cf-1574572bf891",
   "metadata": {},
   "outputs": [],
   "source": [
    "The included code stub will read an integer,n, from STDIN.\n",
    "\n",
    "Without using any string methods, try to print the following:\n",
    "\n",
    "123...n\n",
    "Note that \"...\" represents the consecutive values in between.\n",
    "\n",
    "Example\n",
    "n=5\n",
    "Print the string 12345.\n",
    "\n",
    "Input Format\n",
    "\n",
    "The first line contains an integer n.\n",
    "\n",
    "Constraints\n",
    "\n",
    "1<=n<=150\n",
    "Output Format\n",
    "\n",
    "Print the list of integers from 1 through n as a string, without spaces."
   ]
  },
  {
   "cell_type": "code",
   "execution_count": null,
   "id": "9cdd0de9-2aaa-4c59-a8e9-fc9ae0d1aba9",
   "metadata": {},
   "outputs": [],
   "source": [
    "if __name__ == '__main__':\n",
    "    n = int(input())\n",
    "    for i in range(1,n+1):\n",
    "        print(i,end=\"\")\n"
   ]
  },
  {
   "cell_type": "code",
   "execution_count": null,
   "id": "a1e7e556-80ca-485d-8425-ad8b907758f5",
   "metadata": {},
   "outputs": [],
   "source": [
    "Task\n",
    "\n",
    "Given a year, determine whether it is a leap year. If it is a leap year, return the Boolean True, otherwise return False.\n",
    "\n",
    "Note that the code stub provided reads from STDIN and passes arguments to the is_leap function. It is only necessary to complete the is_leap function.\n",
    "\n",
    "Input Format\n",
    "\n",
    "Read year, the year to test.\n",
    "\n",
    "Constraints\n",
    "1900<=year<=10^5\n",
    "\n",
    "Output Format\n",
    "\n",
    "The function must return a Boolean value (True/False). Output is handled by the provided code stub."
   ]
  },
  {
   "cell_type": "code",
   "execution_count": null,
   "id": "36a1ccdd-13a2-4253-8e30-5e692989469c",
   "metadata": {},
   "outputs": [],
   "source": [
    "def is_leap(year):\n",
    "    leap = False\n",
    "    \n",
    "    if(year % 4 == 0) and (year % 100 != 0 or year % 400 == 0):\n",
    "        leap =True\n",
    "    return leap\n",
    "\n",
    "year = int(input())\n",
    "print(is_leap(year))"
   ]
  }
 ],
 "metadata": {
  "kernelspec": {
   "display_name": "Python 3 (ipykernel)",
   "language": "python",
   "name": "python3"
  },
  "language_info": {
   "codemirror_mode": {
    "name": "ipython",
    "version": 3
   },
   "file_extension": ".py",
   "mimetype": "text/x-python",
   "name": "python",
   "nbconvert_exporter": "python",
   "pygments_lexer": "ipython3",
   "version": "3.11.8"
  }
 },
 "nbformat": 4,
 "nbformat_minor": 5
}
